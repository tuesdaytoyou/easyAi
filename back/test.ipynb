{
 "cells": [
  {
   "cell_type": "code",
   "execution_count": null,
   "metadata": {},
   "outputs": [
    {
     "ename": "",
     "evalue": "",
     "output_type": "error",
     "traceback": [
      "\u001b[1;31mFailed to start the Kernel. \n",
      "\u001b[1;31mTraceback (most recent call last):\n",
      "\u001b[1;31m  File \"/Users/tuesday/.vscode/extensions/ms-toolsai.jupyter-2022.9.1202862440/pythonFiles/vscode_datascience_helpers/jupyter_daemon.py\", line 158, in _start_notebook\n",
      "\u001b[1;31m    from notebook import notebookapp as app\n",
      "\u001b[1;31m  File \"/Users/tuesday/miniforge3/envs/tf26/lib/python3.9/site-packages/notebook/notebookapp.py\", line 59, in <module>\n",
      "\u001b[1;31m    from tornado import httpserver\n",
      "\u001b[1;31m  File \"/Users/tuesday/miniforge3/envs/tf26/lib/python3.9/site-packages/tornado/httpserver.py\", line 29, in <module>\n",
      "\u001b[1;31m    import ssl\n",
      "\u001b[1;31m  File \"/Users/tuesday/miniforge3/envs/tf26/lib/python3.9/ssl.py\", line 98, in <module>\n",
      "\u001b[1;31m    import _ssl             # if we can't import it, let the error propagate\n",
      "\u001b[1;31mImportError: dlopen(/Users/tuesday/miniforge3/envs/tf26/lib/python3.9/lib-dynload/_ssl.cpython-39-darwin.so, 0x0002): Library not loaded: '@rpath/libssl.1.1.dylib'\n",
      "\u001b[1;31m  Referenced from: '/Users/tuesday/miniforge3/envs/tf26/lib/python3.9/lib-dynload/_ssl.cpython-39-darwin.so'\n",
      "\u001b[1;31m  Reason: tried: '/Users/tuesday/miniforge3/envs/tf26/lib/libssl.1.1.dylib' (mach-o file, but is an incompatible architecture (have (x86_64), need (arm64e))), '/Users/tuesday/miniforge3/envs/tf26/lib/libssl.1.1.dylib' (mach-o file, but is an incompatible architecture (have (x86_64), need (arm64e))), '/Users/tuesday/miniforge3/envs/tf26/lib/python3.9/lib-dynload/../../libssl.1.1.dylib' (mach-o file, but is an incompatible architecture (have (x86_64), need (arm64e))), '/Users/tuesday/miniforge3/envs/tf26/lib/libssl.1.1.dylib' (mach-o file, but is an incompatible architecture (have (x86_64), need (arm64e))), '/Users/tuesday/miniforge3/envs/tf26/lib/libssl.1.1.dylib' (mach-o file, but is an incompatible architecture (have (x86_64), need (arm64e))), '/Users/tuesday/miniforge3/envs/tf26/lib/python3.9/lib-dynload/../../libssl.1.1.dylib' (mach-o file, but is an incompatible architecture (have (x86_64), need (arm64e))), '/Users/tuesday/miniforge3/envs/tf26/lib/libssl.1.1.dylib' (mach-o file, but is an incompatible architecture (have (x86_64), need (arm64e))), '/Users/tuesday/miniforge3/envs/tf26/bin/../lib/libssl.1.1.dylib' (mach-o file, but is an incompatible architecture (have (x86_64), need (arm64e))), '/Users/tuesday/miniforge3/envs/tf26/lib/libssl.1.1.dylib' (mach-o file, but is an incompatible architecture (have (x86_64), need (arm64e))), '/Users/tuesday/miniforge3/envs/tf26/bin/../lib/libssl.1.1.dylib' (mach-o file, but is an incompatible architecture (have (x86_64), need (arm64e))), '/usr/local/lib/libssl.1.1.dylib' (no such file), '/usr/lib/libssl.1.1.dylib' (no such file)\n",
      "\u001b[1;31m\n",
      "\u001b[1;31mDuring handling of the above exception, another exception occurred:\n",
      "\u001b[1;31m\n",
      "\u001b[1;31mTraceback (most recent call last):\n",
      "\u001b[1;31m  File \"/Users/tuesday/.vscode/extensions/ms-toolsai.jupyter-2022.9.1202862440/pythonFiles/vscode_datascience_helpers/daemon/daemon_python.py\", line 54, in _decorator\n",
      "\u001b[1;31m    return func(self, *args, **kwargs)\n",
      "\u001b[1;31m  File \"/Users/tuesday/.vscode/extensions/ms-toolsai.jupyter-2022.9.1202862440/pythonFiles/vscode_datascience_helpers/jupyter_daemon.py\", line 111, in m_exec_module_observable\n",
      "\u001b[1;31m    self._start_notebook(args, cwd, env)\n",
      "\u001b[1;31m  File \"/Users/tuesday/.vscode/extensions/ms-toolsai.jupyter-2022.9.1202862440/pythonFiles/vscode_datascience_helpers/jupyter_daemon.py\", line 160, in _start_notebook\n",
      "\u001b[1;31m    from notebook import app as app\n",
      "\u001b[1;31mImportError: cannot import name 'app' from 'notebook' (/Users/tuesday/miniforge3/envs/tf26/lib/python3.9/site-packages/notebook/__init__.py)\n",
      "\u001b[1;31m\n",
      "\u001b[1;31mFailed to run jupyter as observable with args notebook --no-browser --notebook-dir=\"/Users/tuesday/Documents/GitHub/seeyoulater/python/tensorflow/dogVsCat\" --config=/var/folders/7n/351l1fs1525dkrzy3dh501300000gn/T/com.apple.appstoreagent/85501859-4473-4dec-84cc-59c1505d6f91/jupyter_notebook_config.py --NotebookApp.iopub_data_rate_limit=10000000000.0. \n",
      "\u001b[1;31mView Jupyter <a href='command:jupyter.viewOutput'>log</a> for further details."
     ]
    }
   ],
   "source": [
    "import os"
   ]
  },
  {
   "cell_type": "code",
   "execution_count": null,
   "metadata": {},
   "outputs": [
    {
     "ename": "",
     "evalue": "",
     "output_type": "error",
     "traceback": [
      "\u001b[1;31mFailed to start the Kernel. \n",
      "\u001b[1;31mTraceback (most recent call last):\n",
      "\u001b[1;31m  File \"/Users/tuesday/.vscode/extensions/ms-toolsai.jupyter-2022.9.1202862440/pythonFiles/vscode_datascience_helpers/jupyter_daemon.py\", line 158, in _start_notebook\n",
      "\u001b[1;31m    from notebook import notebookapp as app\n",
      "\u001b[1;31m  File \"/Users/tuesday/miniforge3/envs/tf26/lib/python3.9/site-packages/notebook/notebookapp.py\", line 59, in <module>\n",
      "\u001b[1;31m    from tornado import httpserver\n",
      "\u001b[1;31m  File \"/Users/tuesday/miniforge3/envs/tf26/lib/python3.9/site-packages/tornado/httpserver.py\", line 29, in <module>\n",
      "\u001b[1;31m    import ssl\n",
      "\u001b[1;31m  File \"/Users/tuesday/miniforge3/envs/tf26/lib/python3.9/ssl.py\", line 98, in <module>\n",
      "\u001b[1;31m    import _ssl             # if we can't import it, let the error propagate\n",
      "\u001b[1;31mImportError: dlopen(/Users/tuesday/miniforge3/envs/tf26/lib/python3.9/lib-dynload/_ssl.cpython-39-darwin.so, 0x0002): Library not loaded: '@rpath/libssl.1.1.dylib'\n",
      "\u001b[1;31m  Referenced from: '/Users/tuesday/miniforge3/envs/tf26/lib/python3.9/lib-dynload/_ssl.cpython-39-darwin.so'\n",
      "\u001b[1;31m  Reason: tried: '/Users/tuesday/miniforge3/envs/tf26/lib/libssl.1.1.dylib' (mach-o file, but is an incompatible architecture (have (x86_64), need (arm64e))), '/Users/tuesday/miniforge3/envs/tf26/lib/libssl.1.1.dylib' (mach-o file, but is an incompatible architecture (have (x86_64), need (arm64e))), '/Users/tuesday/miniforge3/envs/tf26/lib/python3.9/lib-dynload/../../libssl.1.1.dylib' (mach-o file, but is an incompatible architecture (have (x86_64), need (arm64e))), '/Users/tuesday/miniforge3/envs/tf26/lib/libssl.1.1.dylib' (mach-o file, but is an incompatible architecture (have (x86_64), need (arm64e))), '/Users/tuesday/miniforge3/envs/tf26/lib/libssl.1.1.dylib' (mach-o file, but is an incompatible architecture (have (x86_64), need (arm64e))), '/Users/tuesday/miniforge3/envs/tf26/lib/python3.9/lib-dynload/../../libssl.1.1.dylib' (mach-o file, but is an incompatible architecture (have (x86_64), need (arm64e))), '/Users/tuesday/miniforge3/envs/tf26/lib/libssl.1.1.dylib' (mach-o file, but is an incompatible architecture (have (x86_64), need (arm64e))), '/Users/tuesday/miniforge3/envs/tf26/bin/../lib/libssl.1.1.dylib' (mach-o file, but is an incompatible architecture (have (x86_64), need (arm64e))), '/Users/tuesday/miniforge3/envs/tf26/lib/libssl.1.1.dylib' (mach-o file, but is an incompatible architecture (have (x86_64), need (arm64e))), '/Users/tuesday/miniforge3/envs/tf26/bin/../lib/libssl.1.1.dylib' (mach-o file, but is an incompatible architecture (have (x86_64), need (arm64e))), '/usr/local/lib/libssl.1.1.dylib' (no such file), '/usr/lib/libssl.1.1.dylib' (no such file)\n",
      "\u001b[1;31m\n",
      "\u001b[1;31mDuring handling of the above exception, another exception occurred:\n",
      "\u001b[1;31m\n",
      "\u001b[1;31mTraceback (most recent call last):\n",
      "\u001b[1;31m  File \"/Users/tuesday/.vscode/extensions/ms-toolsai.jupyter-2022.9.1202862440/pythonFiles/vscode_datascience_helpers/daemon/daemon_python.py\", line 54, in _decorator\n",
      "\u001b[1;31m    return func(self, *args, **kwargs)\n",
      "\u001b[1;31m  File \"/Users/tuesday/.vscode/extensions/ms-toolsai.jupyter-2022.9.1202862440/pythonFiles/vscode_datascience_helpers/jupyter_daemon.py\", line 111, in m_exec_module_observable\n",
      "\u001b[1;31m    self._start_notebook(args, cwd, env)\n",
      "\u001b[1;31m  File \"/Users/tuesday/.vscode/extensions/ms-toolsai.jupyter-2022.9.1202862440/pythonFiles/vscode_datascience_helpers/jupyter_daemon.py\", line 160, in _start_notebook\n",
      "\u001b[1;31m    from notebook import app as app\n",
      "\u001b[1;31mImportError: cannot import name 'app' from 'notebook' (/Users/tuesday/miniforge3/envs/tf26/lib/python3.9/site-packages/notebook/__init__.py)\n",
      "\u001b[1;31m\n",
      "\u001b[1;31mFailed to run jupyter as observable with args notebook --no-browser --notebook-dir=\"/Users/tuesday/Documents/GitHub/seeyoulater/python/tensorflow/dogVsCat\" --config=/var/folders/7n/351l1fs1525dkrzy3dh501300000gn/T/com.apple.appstoreagent/85501859-4473-4dec-84cc-59c1505d6f91/jupyter_notebook_config.py --NotebookApp.iopub_data_rate_limit=10000000000.0. \n",
      "\u001b[1;31mView Jupyter <a href='command:jupyter.viewOutput'>log</a> for further details."
     ]
    }
   ],
   "source": [
    "# plot cat photos from the dogs vs cats dataset\n",
    "base_dir = f'./data/cats_and_dogs_filtered'\n",
    "\n",
    "train_dir = os.path.join(base_dir, 'train')\n",
    "validation_dir = os.path.join(base_dir, 'validation')\n",
    "\n",
    "# Directory with our training cat/dog pictures\n",
    "train_cats_dir = os.path.join(train_dir, 'cats')\n",
    "train_dogs_dir = os.path.join(train_dir, 'dogs')\n",
    "\n",
    "# Directory with our validation cat/dog pictures\n",
    "validation_cats_dir = os.path.join(validation_dir, 'cats')\n",
    "validation_dogs_dir = os.path.join(validation_dir, 'dogs')"
   ]
  },
  {
   "cell_type": "code",
   "execution_count": null,
   "metadata": {},
   "outputs": [
    {
     "ename": "",
     "evalue": "",
     "output_type": "error",
     "traceback": [
      "\u001b[1;31mFailed to start the Kernel. \n",
      "\u001b[1;31mTraceback (most recent call last):\n",
      "\u001b[1;31m  File \"/Users/tuesday/.vscode/extensions/ms-toolsai.jupyter-2022.9.1202862440/pythonFiles/vscode_datascience_helpers/jupyter_daemon.py\", line 158, in _start_notebook\n",
      "\u001b[1;31m    from notebook import notebookapp as app\n",
      "\u001b[1;31m  File \"/Users/tuesday/miniforge3/envs/tf26/lib/python3.9/site-packages/notebook/notebookapp.py\", line 59, in <module>\n",
      "\u001b[1;31m    from tornado import httpserver\n",
      "\u001b[1;31m  File \"/Users/tuesday/miniforge3/envs/tf26/lib/python3.9/site-packages/tornado/httpserver.py\", line 29, in <module>\n",
      "\u001b[1;31m    import ssl\n",
      "\u001b[1;31m  File \"/Users/tuesday/miniforge3/envs/tf26/lib/python3.9/ssl.py\", line 98, in <module>\n",
      "\u001b[1;31m    import _ssl             # if we can't import it, let the error propagate\n",
      "\u001b[1;31mImportError: dlopen(/Users/tuesday/miniforge3/envs/tf26/lib/python3.9/lib-dynload/_ssl.cpython-39-darwin.so, 0x0002): Library not loaded: '@rpath/libssl.1.1.dylib'\n",
      "\u001b[1;31m  Referenced from: '/Users/tuesday/miniforge3/envs/tf26/lib/python3.9/lib-dynload/_ssl.cpython-39-darwin.so'\n",
      "\u001b[1;31m  Reason: tried: '/Users/tuesday/miniforge3/envs/tf26/lib/libssl.1.1.dylib' (mach-o file, but is an incompatible architecture (have (x86_64), need (arm64e))), '/Users/tuesday/miniforge3/envs/tf26/lib/libssl.1.1.dylib' (mach-o file, but is an incompatible architecture (have (x86_64), need (arm64e))), '/Users/tuesday/miniforge3/envs/tf26/lib/python3.9/lib-dynload/../../libssl.1.1.dylib' (mach-o file, but is an incompatible architecture (have (x86_64), need (arm64e))), '/Users/tuesday/miniforge3/envs/tf26/lib/libssl.1.1.dylib' (mach-o file, but is an incompatible architecture (have (x86_64), need (arm64e))), '/Users/tuesday/miniforge3/envs/tf26/lib/libssl.1.1.dylib' (mach-o file, but is an incompatible architecture (have (x86_64), need (arm64e))), '/Users/tuesday/miniforge3/envs/tf26/lib/python3.9/lib-dynload/../../libssl.1.1.dylib' (mach-o file, but is an incompatible architecture (have (x86_64), need (arm64e))), '/Users/tuesday/miniforge3/envs/tf26/lib/libssl.1.1.dylib' (mach-o file, but is an incompatible architecture (have (x86_64), need (arm64e))), '/Users/tuesday/miniforge3/envs/tf26/bin/../lib/libssl.1.1.dylib' (mach-o file, but is an incompatible architecture (have (x86_64), need (arm64e))), '/Users/tuesday/miniforge3/envs/tf26/lib/libssl.1.1.dylib' (mach-o file, but is an incompatible architecture (have (x86_64), need (arm64e))), '/Users/tuesday/miniforge3/envs/tf26/bin/../lib/libssl.1.1.dylib' (mach-o file, but is an incompatible architecture (have (x86_64), need (arm64e))), '/usr/local/lib/libssl.1.1.dylib' (no such file), '/usr/lib/libssl.1.1.dylib' (no such file)\n",
      "\u001b[1;31m\n",
      "\u001b[1;31mDuring handling of the above exception, another exception occurred:\n",
      "\u001b[1;31m\n",
      "\u001b[1;31mTraceback (most recent call last):\n",
      "\u001b[1;31m  File \"/Users/tuesday/.vscode/extensions/ms-toolsai.jupyter-2022.9.1202862440/pythonFiles/vscode_datascience_helpers/daemon/daemon_python.py\", line 54, in _decorator\n",
      "\u001b[1;31m    return func(self, *args, **kwargs)\n",
      "\u001b[1;31m  File \"/Users/tuesday/.vscode/extensions/ms-toolsai.jupyter-2022.9.1202862440/pythonFiles/vscode_datascience_helpers/jupyter_daemon.py\", line 111, in m_exec_module_observable\n",
      "\u001b[1;31m    self._start_notebook(args, cwd, env)\n",
      "\u001b[1;31m  File \"/Users/tuesday/.vscode/extensions/ms-toolsai.jupyter-2022.9.1202862440/pythonFiles/vscode_datascience_helpers/jupyter_daemon.py\", line 160, in _start_notebook\n",
      "\u001b[1;31m    from notebook import app as app\n",
      "\u001b[1;31mImportError: cannot import name 'app' from 'notebook' (/Users/tuesday/miniforge3/envs/tf26/lib/python3.9/site-packages/notebook/__init__.py)\n",
      "\u001b[1;31m\n",
      "\u001b[1;31mFailed to run jupyter as observable with args notebook --no-browser --notebook-dir=\"/Users/tuesday/Documents/GitHub/seeyoulater/python/tensorflow/dogVsCat\" --config=/var/folders/7n/351l1fs1525dkrzy3dh501300000gn/T/com.apple.appstoreagent/85501859-4473-4dec-84cc-59c1505d6f91/jupyter_notebook_config.py --NotebookApp.iopub_data_rate_limit=10000000000.0. \n",
      "\u001b[1;31mView Jupyter <a href='command:jupyter.viewOutput'>log</a> for further details."
     ]
    }
   ],
   "source": [
    "import matplotlib.image as mpimg\n",
    "import matplotlib.pyplot as plt\n",
    "\n",
    "# Parameters for our graph; we'll output images in a 4x4 configuration\n",
    "nrows = 4\n",
    "ncols = 4\n",
    "\n",
    "pic_index = 0 # Index for iterating over images"
   ]
  },
  {
   "cell_type": "code",
   "execution_count": null,
   "metadata": {},
   "outputs": [
    {
     "ename": "",
     "evalue": "",
     "output_type": "error",
     "traceback": [
      "\u001b[1;31mFailed to start the Kernel. \n",
      "\u001b[1;31mTraceback (most recent call last):\n",
      "\u001b[1;31m  File \"/Users/tuesday/.vscode/extensions/ms-toolsai.jupyter-2022.9.1202862440/pythonFiles/vscode_datascience_helpers/jupyter_daemon.py\", line 158, in _start_notebook\n",
      "\u001b[1;31m    from notebook import notebookapp as app\n",
      "\u001b[1;31m  File \"/Users/tuesday/miniforge3/envs/tf26/lib/python3.9/site-packages/notebook/notebookapp.py\", line 59, in <module>\n",
      "\u001b[1;31m    from tornado import httpserver\n",
      "\u001b[1;31m  File \"/Users/tuesday/miniforge3/envs/tf26/lib/python3.9/site-packages/tornado/httpserver.py\", line 29, in <module>\n",
      "\u001b[1;31m    import ssl\n",
      "\u001b[1;31m  File \"/Users/tuesday/miniforge3/envs/tf26/lib/python3.9/ssl.py\", line 98, in <module>\n",
      "\u001b[1;31m    import _ssl             # if we can't import it, let the error propagate\n",
      "\u001b[1;31mImportError: dlopen(/Users/tuesday/miniforge3/envs/tf26/lib/python3.9/lib-dynload/_ssl.cpython-39-darwin.so, 0x0002): Library not loaded: '@rpath/libssl.1.1.dylib'\n",
      "\u001b[1;31m  Referenced from: '/Users/tuesday/miniforge3/envs/tf26/lib/python3.9/lib-dynload/_ssl.cpython-39-darwin.so'\n",
      "\u001b[1;31m  Reason: tried: '/Users/tuesday/miniforge3/envs/tf26/lib/libssl.1.1.dylib' (mach-o file, but is an incompatible architecture (have (x86_64), need (arm64e))), '/Users/tuesday/miniforge3/envs/tf26/lib/libssl.1.1.dylib' (mach-o file, but is an incompatible architecture (have (x86_64), need (arm64e))), '/Users/tuesday/miniforge3/envs/tf26/lib/python3.9/lib-dynload/../../libssl.1.1.dylib' (mach-o file, but is an incompatible architecture (have (x86_64), need (arm64e))), '/Users/tuesday/miniforge3/envs/tf26/lib/libssl.1.1.dylib' (mach-o file, but is an incompatible architecture (have (x86_64), need (arm64e))), '/Users/tuesday/miniforge3/envs/tf26/lib/libssl.1.1.dylib' (mach-o file, but is an incompatible architecture (have (x86_64), need (arm64e))), '/Users/tuesday/miniforge3/envs/tf26/lib/python3.9/lib-dynload/../../libssl.1.1.dylib' (mach-o file, but is an incompatible architecture (have (x86_64), need (arm64e))), '/Users/tuesday/miniforge3/envs/tf26/lib/libssl.1.1.dylib' (mach-o file, but is an incompatible architecture (have (x86_64), need (arm64e))), '/Users/tuesday/miniforge3/envs/tf26/bin/../lib/libssl.1.1.dylib' (mach-o file, but is an incompatible architecture (have (x86_64), need (arm64e))), '/Users/tuesday/miniforge3/envs/tf26/lib/libssl.1.1.dylib' (mach-o file, but is an incompatible architecture (have (x86_64), need (arm64e))), '/Users/tuesday/miniforge3/envs/tf26/bin/../lib/libssl.1.1.dylib' (mach-o file, but is an incompatible architecture (have (x86_64), need (arm64e))), '/usr/local/lib/libssl.1.1.dylib' (no such file), '/usr/lib/libssl.1.1.dylib' (no such file)\n",
      "\u001b[1;31m\n",
      "\u001b[1;31mDuring handling of the above exception, another exception occurred:\n",
      "\u001b[1;31m\n",
      "\u001b[1;31mTraceback (most recent call last):\n",
      "\u001b[1;31m  File \"/Users/tuesday/.vscode/extensions/ms-toolsai.jupyter-2022.9.1202862440/pythonFiles/vscode_datascience_helpers/daemon/daemon_python.py\", line 54, in _decorator\n",
      "\u001b[1;31m    return func(self, *args, **kwargs)\n",
      "\u001b[1;31m  File \"/Users/tuesday/.vscode/extensions/ms-toolsai.jupyter-2022.9.1202862440/pythonFiles/vscode_datascience_helpers/jupyter_daemon.py\", line 111, in m_exec_module_observable\n",
      "\u001b[1;31m    self._start_notebook(args, cwd, env)\n",
      "\u001b[1;31m  File \"/Users/tuesday/.vscode/extensions/ms-toolsai.jupyter-2022.9.1202862440/pythonFiles/vscode_datascience_helpers/jupyter_daemon.py\", line 160, in _start_notebook\n",
      "\u001b[1;31m    from notebook import app as app\n",
      "\u001b[1;31mImportError: cannot import name 'app' from 'notebook' (/Users/tuesday/miniforge3/envs/tf26/lib/python3.9/site-packages/notebook/__init__.py)\n",
      "\u001b[1;31m\n",
      "\u001b[1;31mFailed to run jupyter as observable with args notebook --no-browser --notebook-dir=\"/Users/tuesday/Documents/GitHub/seeyoulater/python/tensorflow/dogVsCat\" --config=/var/folders/7n/351l1fs1525dkrzy3dh501300000gn/T/com.apple.appstoreagent/85501859-4473-4dec-84cc-59c1505d6f91/jupyter_notebook_config.py --NotebookApp.iopub_data_rate_limit=10000000000.0. \n",
      "\u001b[1;31mView Jupyter <a href='command:jupyter.viewOutput'>log</a> for further details."
     ]
    }
   ],
   "source": []
  }
 ],
 "metadata": {
  "kernelspec": {
   "display_name": "Python 3.9.12 ('base')",
   "language": "python",
   "name": "python3"
  },
  "language_info": {
   "name": "python",
   "version": "3.9.12"
  },
  "orig_nbformat": 4,
  "vscode": {
   "interpreter": {
    "hash": "ed75dff1cb76608aa507a50d6faa4e710a2fe35307320093dd8849eed8779363"
   }
  }
 },
 "nbformat": 4,
 "nbformat_minor": 2
}
